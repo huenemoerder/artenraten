{
  "nbformat": 4,
  "nbformat_minor": 0,
  "metadata": {
    "colab": {
      "provenance": [],
      "authorship_tag": "ABX9TyP1rRwx1eck8bVi0UPzqYCA",
      "include_colab_link": true
    },
    "kernelspec": {
      "name": "python3",
      "display_name": "Python 3"
    },
    "language_info": {
      "name": "python"
    }
  },
  "cells": [
    {
      "cell_type": "markdown",
      "metadata": {
        "id": "view-in-github",
        "colab_type": "text"
      },
      "source": [
        "<a href=\"https://colab.research.google.com/github/huenemoerder/artenraten/blob/main/ArtenRaten.ipynb\" target=\"_parent\"><img src=\"https://colab.research.google.com/assets/colab-badge.svg\" alt=\"Open In Colab\"/></a>"
      ]
    },
    {
      "cell_type": "markdown",
      "source": [
        "# Arten Raten\n",
        "\n",
        "Erzeugt ein kleines Quiz um Tierarten zu lernen, basierend auf Google Image Search\n"
      ],
      "metadata": {
        "id": "Nd5ybDKeRu94"
      }
    },
    {
      "cell_type": "markdown",
      "source": [
        "## Alle Zellen ausführen und warten!\n",
        "\n",
        "**Optionale Einstellungen**: (Werte in der nächsten Zelle anpassen)\n",
        "\n",
        "* *imgs_per_animal*: Wie viele Bilder sollen von Google images per Art runtergeladen werden, kann auswirkungen auf die Qualität und Laufzeit haben.\n",
        "\n",
        "* *num_imgs*: Aus wievielen Bildern soll ein Quiz bestehen.\n",
        "\n",
        "**Ausführen:** Oben im Menü: Laufzeit -> Alle ausführen!\n",
        "\n"
      ],
      "metadata": {
        "id": "ZAUA8TQI9snN"
      }
    },
    {
      "cell_type": "code",
      "source": [
        "imgs_per_animal = 20\n",
        "num_imgs = 25"
      ],
      "metadata": {
        "id": "N1NXqFdD9ALR"
      },
      "execution_count": 157,
      "outputs": []
    },
    {
      "cell_type": "code",
      "source": [
        "!pip install icrawler"
      ],
      "metadata": {
        "id": "geLrZ5jYXxy7"
      },
      "execution_count": null,
      "outputs": []
    },
    {
      "cell_type": "code",
      "execution_count": 2,
      "metadata": {
        "id": "hZszQja1OaQ1"
      },
      "outputs": [],
      "source": [
        "import pandas as pd\n",
        "import matplotlib.pyplot as plt\n",
        "import numpy as np\n",
        "\n",
        "from icrawler.builtin import GoogleImageCrawler\n",
        "import os\n",
        "from PIL import Image\n",
        "import random\n",
        "\n",
        "import pandas as pd\n",
        "from ipywidgets import widgets as widgets2\n",
        "from IPython.display import display\n",
        "\n",
        "import time\n",
        "from google.colab import widgets\n",
        "import functools\n",
        "\n",
        "from IPython.display import clear_output"
      ]
    },
    {
      "cell_type": "code",
      "source": [
        "url = 'https://raw.githubusercontent.com/huenemoerder/artenraten/main/Klausurarten.csv'\n",
        "df = pd.read_csv(url)\n",
        "\n",
        "def getRandomPrompts(df, number=100):\n",
        "  random_rows = df.sample(n=number, replace=True)\n",
        "  return random_rows\n",
        "\n",
        "def fetchRandomImage(search_term):\n",
        "  google_crawler = GoogleImageCrawler(\n",
        "    feeder_threads=1,\n",
        "    parser_threads=1,\n",
        "    downloader_threads=10,\n",
        "    storage={'root_dir': f'./{search_term}/'})\n",
        "  google_crawler.set_logger(log_level=50)\n",
        "  img = google_crawler.crawl(keyword = search_term, max_num = imgs_per_animal)\n",
        "  clear_output()\n",
        "  return img\n",
        "\n",
        "def getImages(n=10):\n",
        "  images = []\n",
        "  for i in range(n):\n",
        "    prompt = getRandomPrompts(df, 1)\n",
        "    search_term = f'{prompt.Gattung.values[0]} {prompt.Art.values[0]}'\n",
        "    if search_term not in os.listdir('./'):\n",
        "      fetchRandomImage(search_term)\n",
        "    image_paths = os.listdir(f'./{search_term}/')\n",
        "    img_path = image_paths[random.randint(0, len(image_paths)-1)]\n",
        "    print(img_path)\n",
        "    img = np.asarray(Image.open(f'./{search_term}/{img_path}'))\n",
        "    images.append((search_term, img))\n",
        "  return images"
      ],
      "metadata": {
        "id": "Iqhv_o4CZKxr"
      },
      "execution_count": 155,
      "outputs": []
    },
    {
      "cell_type": "code",
      "source": [
        "images = getImages(num_imgs)\n",
        "\n",
        "tb = widgets.TabBar([str(i) for i in range(num_imgs)], location='top')\n",
        "\n",
        "for i in range(num_imgs):\n",
        "  with tb.output_to(i, 0):\n",
        "    plt.imshow(images[i][1])\n",
        "    btn = widgets2.Button(description=f'Reveal #{i}')\n",
        "    label = widgets2.Label(value='Solution')\n",
        "    def on_button_clicked(value, lab, obj):\n",
        "       lab.value = images[value][0]\n",
        "    btn.on_click(functools.partial(on_button_clicked, i, label))\n",
        "    plt.show()\n",
        "    display(label, btn)"
      ],
      "metadata": {
        "id": "NNS5OaxXdmZp"
      },
      "execution_count": null,
      "outputs": []
    }
  ]
}